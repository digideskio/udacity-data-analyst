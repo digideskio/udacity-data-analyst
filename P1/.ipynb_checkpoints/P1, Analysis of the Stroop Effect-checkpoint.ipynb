{
 "cells": [
  {
   "cell_type": "markdown",
   "metadata": {},
   "source": [
    "## Stroop Task\n",
    "\n",
    "In a Stroop task, participants are presented with a list of words, with each word displayed in a color of ink. The participant’s task is to say out loud the color of the ink in which the word is printed. The task has two conditions: a congruent words condition, and an incongruent words condition. In the congruent words condition, the words being displayed are color words whose names match the colors in which they are printed. In the incongruent words condition, the words displayed are color words whose names do not match the colors in which they are printed. In each case, we measure the time it takes to name the ink colors in equally-sized lists. Each participant will go through and record a time from each condition."
   ]
  },
  {
   "cell_type": "markdown",
   "metadata": {},
   "source": [
    "## 1. What is our independent variable? What is our dependent variable?\n",
    "\n",
    "In the Stroop task, the independent variable is the condition of the given word set. The word set could either be congruent which means that both the word and font color correspond with each other. A word set could also be incongruent which means that the word and the font color are different from each other.\n",
    "\n",
    "The dependent variable is the time that it takes to go through a word set. This time is measured in seconds."
   ]
  },
  {
   "cell_type": "markdown",
   "metadata": {},
   "source": [
    "## 2. What is an appropriate set of hypotheses for this task? What kind of statistical test do you expect to perform? Justify your choices.\n",
    "\n",
    "For this task, the null hypothesis is that the measured time for going through the congruent word set is equal to the measured time to go through the incongruent word set.\n",
    "The alternative hypothesis is that the measured times are not equal too each other.\n",
    "This can be mathematically written as:\n",
    "\n",
    "* H<sub>0</sub>: μ<sub>C</sub> = μ<sub>I</sub>\n",
    "* H<sub>1</sub>: μ<sub>C</sub> != μ<sub>I</sub>\n",
    "\n",
    "Here, μ<sub>C</sub> is the average time for the congruent word set while μ<sub>I</sub> is the average time for the incongruent word set.\n",
    "\n",
    "Two sets of samples will be analyzed, one set will contain the measured time for the congruent words while the other contains the measured times for the incongruent words. To compare those two samples with each other, a two-tailed Student T-Test will need to be performed. Also, because the same person measures his/her time on both word sets the test is using paired samples.\n",
    "The following alpha level will be used for this test:\n",
    "\n",
    "* α = 0.01"
   ]
  },
  {
   "cell_type": "markdown",
   "metadata": {},
   "source": [
    "## 3. Report some descriptive statistics regarding this dataset. Include at least one measure of central tendency and at least one measure of variability.\n",
    "\n",
    "By using Python and the module Pandas, we can compute the descriptive statistics for the Stroop dataset."
   ]
  },
  {
   "cell_type": "code",
   "execution_count": 5,
   "metadata": {
    "collapsed": false
   },
   "outputs": [
    {
     "data": {
      "text/html": [
       "<div>\n",
       "<table border=\"1\" class=\"dataframe\">\n",
       "  <thead>\n",
       "    <tr style=\"text-align: right;\">\n",
       "      <th></th>\n",
       "      <th>Congruent</th>\n",
       "      <th>Incongruent</th>\n",
       "    </tr>\n",
       "  </thead>\n",
       "  <tbody>\n",
       "    <tr>\n",
       "      <th>count</th>\n",
       "      <td>24.000000</td>\n",
       "      <td>24.000000</td>\n",
       "    </tr>\n",
       "    <tr>\n",
       "      <th>mean</th>\n",
       "      <td>14.051125</td>\n",
       "      <td>22.015917</td>\n",
       "    </tr>\n",
       "    <tr>\n",
       "      <th>std</th>\n",
       "      <td>3.559358</td>\n",
       "      <td>4.797057</td>\n",
       "    </tr>\n",
       "    <tr>\n",
       "      <th>min</th>\n",
       "      <td>8.630000</td>\n",
       "      <td>15.687000</td>\n",
       "    </tr>\n",
       "    <tr>\n",
       "      <th>25%</th>\n",
       "      <td>11.895250</td>\n",
       "      <td>18.716750</td>\n",
       "    </tr>\n",
       "    <tr>\n",
       "      <th>50%</th>\n",
       "      <td>14.356500</td>\n",
       "      <td>21.017500</td>\n",
       "    </tr>\n",
       "    <tr>\n",
       "      <th>75%</th>\n",
       "      <td>16.200750</td>\n",
       "      <td>24.051500</td>\n",
       "    </tr>\n",
       "    <tr>\n",
       "      <th>max</th>\n",
       "      <td>22.328000</td>\n",
       "      <td>35.255000</td>\n",
       "    </tr>\n",
       "  </tbody>\n",
       "</table>\n",
       "</div>"
      ],
      "text/plain": [
       "       Congruent  Incongruent\n",
       "count  24.000000    24.000000\n",
       "mean   14.051125    22.015917\n",
       "std     3.559358     4.797057\n",
       "min     8.630000    15.687000\n",
       "25%    11.895250    18.716750\n",
       "50%    14.356500    21.017500\n",
       "75%    16.200750    24.051500\n",
       "max    22.328000    35.255000"
      ]
     },
     "execution_count": 5,
     "metadata": {},
     "output_type": "execute_result"
    }
   ],
   "source": [
    "import pandas as pd\n",
    "\n",
    "df_data = pd.read_csv('data/stroopdata.csv')\n",
    "df_data.describe()"
   ]
  },
  {
   "cell_type": "markdown",
   "metadata": {},
   "source": [
    "Based on the mean, it does look like that the time to go through the Incongruent set is higher than the Congruent set. However, the standard deviation of the Incongruent set is higher than the Congruent set. This means that there is more variability for the measured times of the Incongruent set."
   ]
  },
  {
   "cell_type": "markdown",
   "metadata": {},
   "source": [
    "## 4. Provide one or two visualizations that show the distribution of the sample data. Write one or two sentences noting what you observe about the plot or plots.\n",
    "\n",
    "We can visualize the distribution of the data using the following Python code:"
   ]
  },
  {
   "cell_type": "code",
   "execution_count": 1,
   "metadata": {
    "collapsed": false
   },
   "outputs": [
    {
     "data": {
      "image/png": "[encoded data removed]",
      "text/plain": [
       "<matplotlib.figure.Figure at 0x116b79290>"
      ]
     },
     "metadata": {},
     "output_type": "display_data"
    }
   ],
   "source": [
    "import numpy as np\n",
    "import pandas as pd\n",
    "\n",
    "import seaborn as sns\n",
    "%matplotlib inline\n",
    "\n",
    "df_data = pd.read_csv('data/stroopdata.csv')\n",
    "\n",
    "bins = np.arange(0,40,2) # Bin size of 2 for a range of 0 to 40.\n",
    "hist_plot = sns.distplot(df_data['Congruent'], bins=bins, kde=False, label='Congruent')\n",
    "hist_plot = sns.distplot(df_data['Incongruent'], bins=bins, kde=False, label='Incongruent')\n",
    "hist_plot.set(xlabel='Time in seconds', ylabel='Number of Samples')\n",
    "hist_plot = hist_plot.legend(loc='upper left')"
   ]
  },
  {
   "cell_type": "markdown",
   "metadata": {},
   "source": [
    "Similar to the descriptive statistics, this visualization shows that the times on the Incongruent set are longer than the Congruent set. Also for the Incongruent set, there is a bin around the 35 seconds. There were two people that took a lot of time to go through the Incongruent set. This could explain the higher value of the standard deviation of the Incongruent set."
   ]
  },
  {
   "cell_type": "markdown",
   "metadata": {},
   "source": [
    "## 5. Now, perform the statistical test and report your results. What is your confidence level and your critical statistic value? Do you reject the null hypothesis or fail to reject it? Come to a conclusion in terms of the experiment task. Did the results match up with your expectations?\n",
    "\n",
    "After exploring the data, it is time to perform the statistical test described in Question 2. For a Student T-test, we will need to determine the degrees of freedom and confidence level. The degrees of freedom can be calculated with the following code:"
   ]
  },
  {
   "cell_type": "code",
   "execution_count": 43,
   "metadata": {
    "collapsed": false
   },
   "outputs": [
    {
     "name": "stdout",
     "output_type": "stream",
     "text": [
      "df: 23\n"
     ]
    }
   ],
   "source": [
    "import numpy as np\n",
    "import pandas as pd\n",
    "\n",
    "df_data = pd.read_csv('data/stroopdata.csv')\n",
    "\n",
    "degrees_of_freedom = len(df_data['Congruent'])-1 # df = number_of_samples - 1\n",
    "print('df: %d' % degrees_of_freedom)"
   ]
  },
  {
   "cell_type": "markdown",
   "metadata": {},
   "source": [
    "A two-tailed Student T-test with α = 0.01 results in a confidence level of 99%. Now a t-table can be used to find the t-critical value:\n",
    "\n",
    "* t<sub>critical</sub>: -2.807 and 2.807\n",
    "\n",
    "Finally, we can compute the t-value for our test and compare that to the t-critical value. The following Python code calculates the t-value for a two-tailed Student T-Test for paired samples."
   ]
  },
  {
   "cell_type": "code",
   "execution_count": 64,
   "metadata": {
    "collapsed": false
   },
   "outputs": [
    {
     "name": "stdout",
     "output_type": "stream",
     "text": [
      "t-value: -8.021\n"
     ]
    }
   ],
   "source": [
    "import numpy as np\n",
    "import pandas as pd\n",
    "\n",
    "df_data = pd.read_csv('data/stroopdata.csv')\n",
    "num_samples = len(df_data['Congruent'])\n",
    "\n",
    "# This formula is implemented:\n",
    "# t = (mean_congruent - mean_incongruent) / (standard_error / sqrt(num_samples))\n",
    "nominator = np.mean(df_data['Congruent']) - np.mean(df_data['Incongruent'])\n",
    "standard_error = np.std(df_data['Congruent']-df_data['Incongruent'], ddof=1)\n",
    "denominator = standard_error / np.sqrt(num_samples)\n",
    "t = nominator / denominator\n",
    "\n",
    "print('t-value: %.3f' % t)"
   ]
  },
  {
   "cell_type": "markdown",
   "metadata": {},
   "source": [
    "A t-value of -8.021 is smaller than the t-critical value of -2.807. Therefore, the null hypothesis can be rejected with p < 0.01.\n",
    "\n",
    "The measured times for the incongruent set are thus significantly different than the times measured for the congruent word set. The descriptive statistics and the visualization had already shown this but it has now also been tested properly. The results of this experiment did match up with my expectations."
   ]
  },
  {
   "cell_type": "markdown",
   "metadata": {},
   "source": [
    "## 6. Optional: What do you think is responsible for the effects observed? Can you think of an alternative or similar task that would result in a similar effect? Some research about the problem will be helpful for thinking about these two questions!"
   ]
  },
  {
   "cell_type": "markdown",
   "metadata": {
    "collapsed": true
   },
   "source": [
    "I have left this question unanswered due to it being optional. I would rather continue with the next course and project."
   ]
  },
  {
   "cell_type": "code",
   "execution_count": null,
   "metadata": {
    "collapsed": true
   },
   "outputs": [],
   "source": []
  }
 ],
 "metadata": {
  "anaconda-cloud": {},
  "kernelspec": {
   "display_name": "Python [Root]",
   "language": "python",
   "name": "Python [Root]"
  },
  "language_info": {
   "codemirror_mode": {
    "name": "ipython",
    "version": 2
   },
   "file_extension": ".py",
   "mimetype": "text/x-python",
   "name": "python",
   "nbconvert_exporter": "python",
   "pygments_lexer": "ipython2",
   "version": "2.7.12"
  }
 },
 "nbformat": 4,
 "nbformat_minor": 0
}
